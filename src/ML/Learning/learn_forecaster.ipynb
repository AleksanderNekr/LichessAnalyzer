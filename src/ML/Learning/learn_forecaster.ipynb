{
 "cells": [
  {
   "cell_type": "code",
   "execution_count": null,
   "id": "initial_id",
   "metadata": {
    "collapsed": true
   },
   "outputs": [],
   "source": [
    "import pandas as pd\n",
    "import joblib, requests, datetime"
   ]
  },
  {
   "cell_type": "markdown",
   "id": "7c31afbcec1593ff",
   "metadata": {},
   "source": [
    "# Обучение модели прогнозирования временных рядов рейтингов шахматистов\n",
    "Данные:\n",
    "- Рейтинг (целое положительное)\n",
    "- Дата (год-месяц-день)\n",
    "- Название рейтинга (строка)\n",
    "\n",
    "Горизонт прогнозирования: 30 дней"
   ]
  },
  {
   "cell_type": "markdown",
   "id": "19b7a6885c122d58",
   "metadata": {},
   "source": [
    "# Получение данных"
   ]
  },
  {
   "cell_type": "code",
   "execution_count": null,
   "id": "4d4bbe5ccec665d0",
   "metadata": {},
   "outputs": [],
   "source": [
    "class LichessApi:\n",
    "    def __init__(self):\n",
    "        self.base_url = 'https://lichess.org/api/'\n",
    "\n",
    "    def get_player_ratings(self, username):\n",
    "        response = requests.get(f'{self.base_url}user/{username}/rating-history')\n",
    "        response.raise_for_status()\n",
    "\n",
    "        # {\n",
    "        #     \"Bullet\": [\n",
    "        #         (\"2011-09-11\", 1472)\n",
    "        #     ]\n",
    "        # }\n",
    "        return {perf['name']: [(datetime.date(point[0], point[1] + 1, point[2]), point[3]) for point in perf['points']]\n",
    "                for perf in response.json()}\n",
    "\n",
    "    def get_all_top10_user_ids(self):\n",
    "        response = requests.get(f'{self.base_url}player')\n",
    "        response.raise_for_status()\n",
    "\n",
    "        player_id_lists = [[player['id'] for player in players] for game_type, players in response.json().items()]\n",
    "        return [player_id for player_id_list in player_id_lists for player_id in player_id_list]"
   ]
  },
  {
   "cell_type": "code",
   "execution_count": null,
   "id": "c141f9ee69f26bb3",
   "metadata": {},
   "outputs": [],
   "source": [
    "api = LichessApi()\n",
    "top10_user_ids = api.get_all_top10_user_ids()"
   ]
  },
  {
   "cell_type": "code",
   "execution_count": null,
   "id": "33177f53b24d2487",
   "metadata": {},
   "outputs": [],
   "source": [
    "top10_user_ids"
   ]
  },
  {
   "cell_type": "code",
   "execution_count": null,
   "id": "126d4a6b2c949187",
   "metadata": {},
   "outputs": [],
   "source": [
    "ratings = {user_id: api.get_player_ratings(user_id) for user_id in top10_user_ids}"
   ]
  },
  {
   "cell_type": "code",
   "execution_count": null,
   "id": "6c0bf1975bf94e",
   "metadata": {},
   "outputs": [],
   "source": [
    "ratings[top10_user_ids[0]]"
   ]
  },
  {
   "cell_type": "markdown",
   "id": "11b827217d84f4bc",
   "metadata": {},
   "source": [
    "# Подготовка данных"
   ]
  },
  {
   "cell_type": "code",
   "execution_count": null,
   "id": "249d5dc06dbfcb5",
   "metadata": {},
   "outputs": [],
   "source": [
    "data = []\n",
    "for user_id, user_ratings in ratings.items():\n",
    "    for perf_name, perf_ratings in user_ratings.items():\n",
    "        for date, rating in perf_ratings:\n",
    "            data.append({\n",
    "                'user_id': user_id,\n",
    "                'name': perf_name,\n",
    "                'date': date,\n",
    "                'rating': rating\n",
    "            })\n",
    "df = pd.DataFrame(data)"
   ]
  },
  {
   "cell_type": "code",
   "execution_count": null,
   "id": "53f1c14996157d75",
   "metadata": {},
   "outputs": [],
   "source": [
    "df"
   ]
  },
  {
   "cell_type": "markdown",
   "id": "a0c2565a03356c2a",
   "metadata": {},
   "source": [
    "# Обучение моделей\n",
    "Модели:\n",
    "- ARIMA\n",
    "- Prophet\n",
    "- LSTM"
   ]
  },
  {
   "cell_type": "markdown",
   "id": "4f5eebcdc21e6bf7",
   "metadata": {},
   "source": [
    "## Подготовка обучающей, валидирующей и тестовых выборок\n",
    "Стоит учесть, что данные являются временными рядами, поэтому разбиение на выборки должно быть сделано с учетом времени."
   ]
  },
  {
   "cell_type": "code",
   "execution_count": null,
   "id": "2dd7fe6475199e23",
   "metadata": {},
   "outputs": [],
   "source": [
    "train = df[df['date'] < df['date'].quantile(0.6)]\n",
    "val = df[(df['date'] >= df['date'].quantile(0.6)) & (df['date'] < df['date'].quantile(0.8))]\n",
    "test = df[df['date'] >= df['date'].quantile(0.8)]"
   ]
  },
  {
   "cell_type": "code",
   "execution_count": null,
   "id": "e28ab94ebf331a08",
   "metadata": {},
   "outputs": [],
   "source": [
    "train"
   ]
  },
  {
   "cell_type": "markdown",
   "id": "926687b61acc8f9d",
   "metadata": {},
   "source": [
    "## ARIMA"
   ]
  },
  {
   "cell_type": "code",
   "execution_count": null,
   "id": "6f604c70a1069cbc",
   "metadata": {},
   "outputs": [],
   "source": [
    "from statsmodels.tsa.arima.model import ARIMA\n",
    "from statsmodels.tsa.statespace.sarimax import SARIMAX"
   ]
  },
  {
   "cell_type": "code",
   "execution_count": null,
   "id": "9cc18535356419ce",
   "metadata": {},
   "outputs": [],
   "source": [
    "arima = SARIMAX(train['rating'], order=(5, 1, 0))\n",
    "arima = arima.fit()"
   ]
  },
  {
   "cell_type": "code",
   "execution_count": null,
   "id": "a1035542e2a4fac5",
   "metadata": {},
   "outputs": [],
   "source": [
    "arima.summary()"
   ]
  },
  {
   "cell_type": "code",
   "execution_count": null,
   "id": "75482fed989db051",
   "metadata": {},
   "outputs": [],
   "source": [
    "forecast = arima.forecast(steps=len(val))"
   ]
  },
  {
   "cell_type": "code",
   "execution_count": null,
   "id": "c83ad866daaea7b8",
   "metadata": {},
   "outputs": [],
   "source": [
    "forecast"
   ]
  },
  {
   "cell_type": "code",
   "execution_count": null,
   "id": "f56f91ebc59a61b0",
   "metadata": {},
   "outputs": [],
   "source": [
    "val['rating']"
   ]
  },
  {
   "cell_type": "code",
   "execution_count": null,
   "id": "5cd00a659b25f2e3",
   "metadata": {},
   "outputs": [],
   "source": [
    "from sklearn.metrics import mean_squared_error"
   ]
  },
  {
   "cell_type": "code",
   "execution_count": null,
   "id": "7ad7eed62600d832",
   "metadata": {},
   "outputs": [],
   "source": [
    "mean_squared_error(val['rating'], forecast)"
   ]
  },
  {
   "cell_type": "markdown",
   "id": "7124f4db9958ecc7",
   "metadata": {},
   "source": [
    "## Prophet"
   ]
  },
  {
   "cell_type": "code",
   "execution_count": null,
   "id": "332090c871cb8e55",
   "metadata": {},
   "outputs": [],
   "source": [
    "from prophet import Prophet"
   ]
  },
  {
   "cell_type": "code",
   "execution_count": null,
   "id": "2b303e696f5c9cf9",
   "metadata": {},
   "outputs": [],
   "source": [
    "proph = Prophet()\n",
    "proph.fit(train[['date', 'rating']].rename(columns={'date': 'ds', 'rating': 'y'}))"
   ]
  },
  {
   "cell_type": "code",
   "execution_count": null,
   "id": "a7d9f424ecd4f018",
   "metadata": {},
   "outputs": [],
   "source": [
    "forecast = proph.predict(val[['date']].rename(columns={'date': 'ds'}))"
   ]
  },
  {
   "cell_type": "code",
   "execution_count": null,
   "id": "f183c103cc862cb2",
   "metadata": {},
   "outputs": [],
   "source": [
    "forecast"
   ]
  },
  {
   "cell_type": "code",
   "execution_count": null,
   "id": "ad95812a48cf8d74",
   "metadata": {},
   "outputs": [],
   "source": [
    "mean_squared_error(val['rating'], forecast['yhat'])"
   ]
  },
  {
   "cell_type": "markdown",
   "id": "48856281d91c2c40",
   "metadata": {},
   "source": [
    "## LSTM"
   ]
  },
  {
   "cell_type": "code",
   "execution_count": null,
   "id": "695843e5168384c3",
   "metadata": {},
   "outputs": [],
   "source": [
    "from tensorflow.keras.models import Sequential\n",
    "from tensorflow.keras.layers import LSTM, Dense"
   ]
  },
  {
   "cell_type": "code",
   "execution_count": null,
   "id": "eb57613eb93de681",
   "metadata": {},
   "outputs": [],
   "source": [
    "# Reshape the training data\n",
    "train_ratings = train['rating'].values.reshape(-1, 1, 1)\n",
    "\n",
    "# Define and compile the LSTM model\n",
    "lstm = Sequential()\n",
    "lstm.add(LSTM(50, activation='relu', input_shape=(1, 1)))\n",
    "lstm.add(Dense(1))\n",
    "lstm.compile(optimizer='adam', loss='mse')"
   ]
  },
  {
   "cell_type": "code",
   "execution_count": null,
   "id": "85e5f64aaefccee9",
   "metadata": {},
   "outputs": [],
   "source": [
    "# Fit the LSTM model\n",
    "lstm.fit(train_ratings, train['rating'].values, epochs=5, batch_size=32)"
   ]
  },
  {
   "cell_type": "code",
   "execution_count": null,
   "id": "d63f13c10ad608c1",
   "metadata": {},
   "outputs": [],
   "source": [
    "forecast = lstm.predict(val['rating'])"
   ]
  },
  {
   "cell_type": "code",
   "execution_count": null,
   "id": "70d9ea9fd94b45ee",
   "metadata": {},
   "outputs": [],
   "source": [
    "forecast"
   ]
  },
  {
   "cell_type": "code",
   "execution_count": null,
   "id": "892f987a9853a3e3",
   "metadata": {},
   "outputs": [],
   "source": [
    "mean_squared_error(val['rating'], forecast)"
   ]
  },
  {
   "cell_type": "markdown",
   "id": "97c6ba633a32f1c7",
   "metadata": {},
   "source": [
    "## Выбор модели на тестовой выборке"
   ]
  },
  {
   "cell_type": "code",
   "execution_count": null,
   "id": "94a5ec8b5f6b9ac3",
   "metadata": {},
   "outputs": [],
   "source": [
    "arima_forecast = arima.forecast(steps=len(test))\n",
    "proph_forecast = proph.predict(test[['date']].rename(columns={'date': 'ds'}))\n",
    "lstm_forecast = lstm.predict(test['rating'])"
   ]
  },
  {
   "cell_type": "code",
   "execution_count": null,
   "id": "3e48884c6730dae7",
   "metadata": {},
   "outputs": [],
   "source": [
    "arima_mse = mean_squared_error(test['rating'], arima_forecast)\n",
    "proph_mse = mean_squared_error(test['rating'], proph_forecast['yhat'])\n",
    "lstm_mse = mean_squared_error(test['rating'], lstm_forecast)"
   ]
  },
  {
   "cell_type": "code",
   "execution_count": null,
   "id": "1e67f9077d863565",
   "metadata": {},
   "outputs": [],
   "source": [
    "arima_mse, proph_mse, lstm_mse"
   ]
  },
  {
   "cell_type": "markdown",
   "id": "783dc0c82897e87",
   "metadata": {},
   "source": [
    "# Сохранение модели"
   ]
  },
  {
   "cell_type": "code",
   "execution_count": null,
   "id": "2a0c79b1d4f9a7c9",
   "metadata": {},
   "outputs": [],
   "source": [
    "joblib.dump(lstm, 'rating_predictor_model.pkl')"
   ]
  },
  {
   "cell_type": "code",
   "execution_count": null,
   "id": "38bec76dd64764be",
   "metadata": {},
   "outputs": [],
   "source": []
  }
 ],
 "metadata": {
  "kernelspec": {
   "display_name": "Python 3",
   "language": "python",
   "name": "python3"
  },
  "language_info": {
   "codemirror_mode": {
    "name": "ipython",
    "version": 2
   },
   "file_extension": ".py",
   "mimetype": "text/x-python",
   "name": "python",
   "nbconvert_exporter": "python",
   "pygments_lexer": "ipython2",
   "version": "2.7.6"
  }
 },
 "nbformat": 4,
 "nbformat_minor": 5
}
